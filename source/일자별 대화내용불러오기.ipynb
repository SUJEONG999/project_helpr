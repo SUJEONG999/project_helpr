{
 "cells": [
  {
   "cell_type": "markdown",
   "metadata": {},
   "source": [
    "# pip install plotly\n",
    "# pip install chart_studio\n",
    "## 설치 후 실행 부탁드립니다!"
   ]
  },
  {
   "cell_type": "code",
   "execution_count": null,
   "metadata": {},
   "outputs": [],
   "source": [
    "import chart_studio.plotly as py\n",
    "import plotly.figure_factory as ff\n",
    "import pandas as pd\n",
    "import chart_studio\n",
    "chart_studio.tools.set_credentials_file(username='ejd090393', api_key='nAlBFJhMDorZ77KhQkTa') # JSJ 계정\n",
    "\n",
    "df = pd.read_csv(\"output/month_chat.csv\")\n",
    "find = df.loc[df['conversation_date'] == '2021-06-04']  # 날짜 지정\n",
    "find = find[['conversation_time','question']]\n",
    "find.columns = ['대화시간', '대화내용']\n",
    "\n",
    "fig = ff.create_table(find)\n",
    "for i in range(len(fig.layout.annotations)):\n",
    "    fig.layout.annotations[i].font.size = 15\n",
    "\n",
    "py.iplot(fig, filename='jupyter-table1')"
   ]
  }
 ],
 "metadata": {
  "kernelspec": {
   "display_name": "pydatavenv",
   "language": "python",
   "name": "pydatavenv"
  },
  "language_info": {
   "name": ""
  }
 },
 "nbformat": 4,
 "nbformat_minor": 4
}
