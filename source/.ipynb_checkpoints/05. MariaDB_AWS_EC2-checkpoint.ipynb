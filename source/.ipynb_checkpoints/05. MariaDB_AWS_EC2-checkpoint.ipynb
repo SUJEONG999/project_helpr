{
 "cells": [
  {
   "cell_type": "markdown",
   "metadata": {},
   "source": [
    "# **pymysql을 이용한 MariaDB 연동**\n",
    "### connect() 함수를 이용하면 MySQL(MariaDB) host내 DB와 직접 연결할 수 있다.\n",
    "- user: user name\n",
    "- passwd: 설정한 패스워드\n",
    "- host: DB가 존재하는 host\n",
    "- db: 연결할 데이터베이스 이름\n",
    "- charset: 인코딩 설정"
   ]
  },
  {
   "cell_type": "code",
   "execution_count": 1,
   "metadata": {},
   "outputs": [
    {
     "name": "stdout",
     "output_type": "stream",
     "text": [
      "<pymysql.connections.Connection object at 0x000002229A76E070>\n"
     ]
    }
   ],
   "source": [
    "import pymysql\n",
    "conn = pymysql.connect(host='13.209.193.138',\n",
    "                       port=3306,\n",
    "                       user='root',\n",
    "                       passwd='test',\n",
    "                       db='mariaDB')\n",
    "print(conn)"
   ]
  },
  {
   "cell_type": "code",
   "execution_count": null,
   "metadata": {},
   "outputs": [],
   "source": [
    "cur = conn.cursor()\n",
    "print(type(cur))\n",
    "print(\"-----------------------\")\n",
    "sql = 'SELECT * FROM firstapp_xylocation' # select는 db를 불러오는 것\n",
    "cur.execute(sql)\n",
    "result = cur.fetchall()\n",
    "print(type(result))\n",
    "print(result)  \n",
    "# conn.close()"
   ]
  },
  {
   "cell_type": "markdown",
   "metadata": {},
   "source": [
    "## Cursor 객체 생성\n",
    "- 연결한 DB와 상호작용하기 위해 cursor 객체를 생성해주어야 한다.\n",
    "- 다양한 커서의 종류가 있지만, 데이터 분석가에게 익숙한 데이터프레임 형태로 결과를 쉽게 변환할 수 있도록 **딕셔너리** 형태로 결과를 반환해주는 **DictCursor**객체를 주로 사용한다.\n",
    "- 일반 **Cursor**객체를 사용하면 결과가 일반적으로는 **튜플** 형태로 리턴된다.\n",
    "___\n",
    "- SELECT 명령을 위해 SQL 문을 따로 변수에 넣어주고 cursor.execute(sql) 을 사용해 SQL를 실행한다.\n",
    "- 실행한 결과를 fetchall(), fetchone() 등으로 받아 온다.\n",
    "___\n",
    "- **fetchall()** - 모든 데이터를 한 번에 가져올 때 사용\n",
    "- **fetchone()** - 한 번 호출에 하나의 행만 가져올 때 사용\n",
    "- **fetchmany(n)** - n개만큼의 데이터를 가져올 때 사용\n",
    "___"
   ]
  },
  {
   "cell_type": "markdown",
   "metadata": {},
   "source": [
    "# fetchall 사용"
   ]
  },
  {
   "cell_type": "code",
   "execution_count": null,
   "metadata": {},
   "outputs": [],
   "source": [
    "try:\n",
    "    cur = conn.cursor()\n",
    "    print(type(cur))\n",
    "    print(\"-----------------------\")\n",
    "    sql = 'SELECT * FROM emp'\n",
    "    cur.execute(sql)\n",
    "    result = cur.fetchall()\n",
    "    print(type(result))\n",
    "    print(result)\n",
    "    print(\"----------------------------------------------\")\n",
    "    print(type(result[0]))\n",
    "    print(result[0])\n",
    "    print(\"----------------------------------------------\")\n",
    "    print(len(result))\n",
    "    print(len(result[0]))\n",
    "    print(\"----------------------------------------------\")\n",
    "    for row in result:        \n",
    "        print(f'{row[0]} {row[1]} {row[2]} {row[3]} {row[4]} {row[5]} {row[6]} {row[7]}')\n",
    "finally:\n",
    "    conn.close() # close를 하는 습관을 가져야한다."
   ]
  },
  {
   "cell_type": "code",
   "execution_count": null,
   "metadata": {},
   "outputs": [],
   "source": [
    "import pandas as pd\n",
    "df = pd.DataFrame(result)\n",
    "df"
   ]
  },
  {
   "cell_type": "code",
   "execution_count": null,
   "metadata": {},
   "outputs": [],
   "source": [
    "df = pd.DataFrame(result, columns=[\"empno\",\"ename\",\"job\",\"mgr\",\"hiredate\",\"sal\", \"comm\", \"deptno\"])\n",
    "df"
   ]
  },
  {
   "cell_type": "markdown",
   "metadata": {},
   "source": [
    "# fetchone 사용\n",
    "> 1개 출력 후 사라짐, 다음 실행하면 2번째 부터 출력, 다음 수행하면 3번째 부터 출력, 즉 다음 행부터 출력을 수행함."
   ]
  },
  {
   "cell_type": "code",
   "execution_count": null,
   "metadata": {},
   "outputs": [],
   "source": [
    "import pymysql\n",
    "conn = pymysql.connect(host='database-big-a.cljkqcsbb9ok.ap-northeast-2.rds.amazonaws.com',port=3306,\n",
    "                       user='edu01',passwd='multi1234!', db='edu01db')\n",
    "try:\n",
    "    cur = conn.cursor()\n",
    "    sql = 'SELECT * FROM emp'\n",
    "    cur.execute(sql)\n",
    "    result = cur.fetchone() # 1번째 출력\n",
    "    print(type(result))\n",
    "    print(result)\n",
    "    print(\"----------------------------------------------\")\n",
    "    result = cur.fetchone() # 2번째 출력\n",
    "    print(type(result))\n",
    "    print(result)\n",
    "    print(\"----------------------------------------------\")\n",
    "    result = cur.fetchmany(3) # 3번째 부터 3개 출력\n",
    "    print(type(result))\n",
    "    print(result)\n",
    "    print(\"----------------------------------------------\")\n",
    "    result = cur.fetchall() # 나머지 모두 출력\n",
    "    print(type(result))\n",
    "    print(result)\n",
    "    print(\"----------------------------------------------\")\n",
    "    result = cur.fetchone() # 더 없슈!!\n",
    "    print(result)\n",
    "finally:\n",
    "    conn.close()"
   ]
  },
  {
   "cell_type": "markdown",
   "metadata": {},
   "source": [
    "# DictCursor\n",
    "> 자동으로 df만들때 컬럼명이 설정된다."
   ]
  },
  {
   "cell_type": "code",
   "execution_count": null,
   "metadata": {},
   "outputs": [],
   "source": [
    "import pymysql\n",
    "conn = pymysql.connect(host='database-big-a.cljkqcsbb9ok.ap-northeast-2.rds.amazonaws.com',port=3306,\n",
    "                       user='edu01',passwd='multi1234!', db='edu01db', cursorclass=pymysql.cursors.DictCursor)\n",
    "try:\n",
    "    cur = conn.cursor()\n",
    "    print(type(cur))\n",
    "    print(\"-----------------------\")\n",
    "    sql = 'SELECT * FROM emp'\n",
    "    cur.execute(sql)\n",
    "    result = cur.fetchall()\n",
    "    print(type(result))\n",
    "    print(result)\n",
    "    print(\"----------------------------------------------\")\n",
    "    print(type(result[0]))\n",
    "    print(result[0])\n",
    "    print(\"----------------------------------------------\")\n",
    "    print(len(result))\n",
    "    print(len(result[0]))\n",
    "    print(\"----------------------------------------------\")\n",
    "    for row in result:        \n",
    "        print(f'{row[\"empno\"]} {row[\"ename\"]} {row[\"job\"]} {row[\"mgr\"]} {row[\"hiredate\"]} {row[\"sal\"]} {row[\"comm\"]} {row[\"deptno\"]}')\n",
    "finally:\n",
    "    conn.close()"
   ]
  },
  {
   "cell_type": "code",
   "execution_count": 37,
   "metadata": {},
   "outputs": [],
   "source": [
    "import pandas as pd"
   ]
  },
  {
   "cell_type": "code",
   "execution_count": null,
   "metadata": {},
   "outputs": [],
   "source": [
    "df = pd.DataFrame(result)\n",
    "df"
   ]
  },
  {
   "cell_type": "markdown",
   "metadata": {},
   "source": [
    "# sql - SELECT\n",
    "> 'SELECT * FROM emp where deptno = 30 order by sal desc'"
   ]
  },
  {
   "cell_type": "code",
   "execution_count": null,
   "metadata": {},
   "outputs": [],
   "source": [
    "import pymysql\n",
    "conn = pymysql.connect(host='database-big-a.cljkqcsbb9ok.ap-northeast-2.rds.amazonaws.com',port=3306,\n",
    "                       user='edu01',passwd='multi1234!', db='edu01db', cursorclass=pymysql.cursors.DictCursor)\n",
    "try:\n",
    "    cur = conn.cursor()\n",
    "    print(type(cur))\n",
    "    print(\"-----------------------\")\n",
    "    sql = 'SELECT * FROM emp where deptno = 30 order by sal desc'\n",
    "    cur.execute(sql)\n",
    "    result = cur.fetchall()\n",
    "    print(type(result))\n",
    "    print(result)\n",
    "    print(\"----------------------------------------------\")\n",
    "    print(type(result[0]))\n",
    "    print(result[0])\n",
    "    print(\"----------------------------------------------\")\n",
    "    print(len(result))\n",
    "    print(len(result[0]))\n",
    "    print(\"----------------------------------------------\")\n",
    "    for row in result:        \n",
    "        print(f'{row[\"empno\"]} {row[\"ename\"]} {row[\"job\"]} {row[\"mgr\"]} {row[\"hiredate\"]} {row[\"sal\"]} {row[\"comm\"]} {row[\"deptno\"]}')\n",
    "finally:\n",
    "    conn.close()"
   ]
  },
  {
   "cell_type": "code",
   "execution_count": 40,
   "metadata": {},
   "outputs": [
    {
     "data": {
      "text/html": [
       "<div>\n",
       "<style scoped>\n",
       "    .dataframe tbody tr th:only-of-type {\n",
       "        vertical-align: middle;\n",
       "    }\n",
       "\n",
       "    .dataframe tbody tr th {\n",
       "        vertical-align: top;\n",
       "    }\n",
       "\n",
       "    .dataframe thead th {\n",
       "        text-align: right;\n",
       "    }\n",
       "</style>\n",
       "<table border=\"1\" class=\"dataframe\">\n",
       "  <thead>\n",
       "    <tr style=\"text-align: right;\">\n",
       "      <th></th>\n",
       "      <th>empno</th>\n",
       "      <th>ename</th>\n",
       "      <th>job</th>\n",
       "      <th>mgr</th>\n",
       "      <th>hiredate</th>\n",
       "      <th>sal</th>\n",
       "      <th>comm</th>\n",
       "      <th>deptno</th>\n",
       "    </tr>\n",
       "  </thead>\n",
       "  <tbody>\n",
       "    <tr>\n",
       "      <th>0</th>\n",
       "      <td>7698</td>\n",
       "      <td>BLAKE</td>\n",
       "      <td>MANAGER</td>\n",
       "      <td>7839</td>\n",
       "      <td>1981-05-01</td>\n",
       "      <td>2850</td>\n",
       "      <td>0</td>\n",
       "      <td>30</td>\n",
       "    </tr>\n",
       "    <tr>\n",
       "      <th>1</th>\n",
       "      <td>7499</td>\n",
       "      <td>ALLEN</td>\n",
       "      <td>SALESMAN</td>\n",
       "      <td>7698</td>\n",
       "      <td>1981-02-20</td>\n",
       "      <td>1600</td>\n",
       "      <td>300</td>\n",
       "      <td>30</td>\n",
       "    </tr>\n",
       "    <tr>\n",
       "      <th>2</th>\n",
       "      <td>7844</td>\n",
       "      <td>TURNER</td>\n",
       "      <td>SALESMAN</td>\n",
       "      <td>7698</td>\n",
       "      <td>1984-10-08</td>\n",
       "      <td>1500</td>\n",
       "      <td>0</td>\n",
       "      <td>30</td>\n",
       "    </tr>\n",
       "    <tr>\n",
       "      <th>3</th>\n",
       "      <td>7521</td>\n",
       "      <td>WARD</td>\n",
       "      <td>SALESMAN</td>\n",
       "      <td>7698</td>\n",
       "      <td>1981-02-03</td>\n",
       "      <td>1250</td>\n",
       "      <td>500</td>\n",
       "      <td>30</td>\n",
       "    </tr>\n",
       "    <tr>\n",
       "      <th>4</th>\n",
       "      <td>7654</td>\n",
       "      <td>MARTIN</td>\n",
       "      <td>SALESMAN</td>\n",
       "      <td>7698</td>\n",
       "      <td>1981-10-22</td>\n",
       "      <td>1250</td>\n",
       "      <td>1400</td>\n",
       "      <td>30</td>\n",
       "    </tr>\n",
       "    <tr>\n",
       "      <th>5</th>\n",
       "      <td>7900</td>\n",
       "      <td>JAMES</td>\n",
       "      <td>CLERK</td>\n",
       "      <td>7698</td>\n",
       "      <td>1981-12-03</td>\n",
       "      <td>950</td>\n",
       "      <td>0</td>\n",
       "      <td>30</td>\n",
       "    </tr>\n",
       "  </tbody>\n",
       "</table>\n",
       "</div>"
      ],
      "text/plain": [
       "   empno   ename       job   mgr    hiredate   sal  comm  deptno\n",
       "0   7698   BLAKE   MANAGER  7839  1981-05-01  2850     0      30\n",
       "1   7499   ALLEN  SALESMAN  7698  1981-02-20  1600   300      30\n",
       "2   7844  TURNER  SALESMAN  7698  1984-10-08  1500     0      30\n",
       "3   7521    WARD  SALESMAN  7698  1981-02-03  1250   500      30\n",
       "4   7654  MARTIN  SALESMAN  7698  1981-10-22  1250  1400      30\n",
       "5   7900   JAMES     CLERK  7698  1981-12-03   950     0      30"
      ]
     },
     "execution_count": 40,
     "metadata": {},
     "output_type": "execute_result"
    }
   ],
   "source": [
    "df2 = pd.DataFrame(result)\n",
    "df2"
   ]
  },
  {
   "cell_type": "markdown",
   "metadata": {},
   "source": [
    "# db table 만들기(insert)"
   ]
  },
  {
   "cell_type": "code",
   "execution_count": 87,
   "metadata": {},
   "outputs": [
    {
     "data": {
      "text/plain": [
       "5019099000"
      ]
     },
     "execution_count": 87,
     "metadata": {},
     "output_type": "execute_result"
    }
   ],
   "source": [
    "import pandas as pd\n",
    "data = pd.read_csv('../data/forecast_xyLocation.csv')\n",
    "# data.info()\n",
    "# for i in range(3774):\n",
    "# VALUES (data.iloc[i, 0], data.iloc[i, 1], data.iloc[i, 2], data.iloc[i, 3], data.iloc[i, 4], data.iloc[i, 5])\n",
    "# data.iloc[0, 0] # 2행 1열\n",
    "# data.iloc[1, 0] # 3행 1열\n",
    "# data.iloc[2, 0] # 4행 1열\n",
    "# data.iloc[3, 0] # 6행 1열\n",
    "# data.iloc[4, 0] # 7행 1열\n",
    "# data.iloc[5, 0] # 8행 1열"
   ]
  },
  {
   "cell_type": "code",
   "execution_count": 89,
   "metadata": {},
   "outputs": [
    {
     "name": "stdout",
     "output_type": "stream",
     "text": [
      "Exeception occured:(1064, \"You have an error in your SQL syntax; check the manual that corresponds to your MariaDB server version for the right syntax to use near '[i, 0], data.iloc[i, 1], data.iloc[i, 2], data.iloc[i, 3], data.iloc[i, 4], data' at line 1\")\n"
     ]
    }
   ],
   "source": [
    "import pymysql\n",
    "\n",
    "conn = pymysql.connect(host='13.209.193.138',port=3306,user='root',passwd='test',db='mariaDB',charset=\"utf8\")\n",
    "\n",
    "try:\n",
    "    cursorObject = conn.cursor()                                     \n",
    "    insertStatement = \"INSERT INTO firstapp_xylocation (l_id, l_si, l_goo, l_dong, l_x, l_y) VALUES (1111000000, '서울특별시', '종로구', NULL, 60, 127)\"\n",
    "    cursorObject.execute(insertStatement)\n",
    "    conn.commit()\n",
    "\n",
    "except Exception as e:\n",
    "    print(\"Exeception occured:{}\".format(e))\n",
    "finally:    \n",
    "    conn.close()\n"
   ]
  },
  {
   "cell_type": "markdown",
   "metadata": {},
   "source": [
    "# db table 만들기(creat)"
   ]
  },
  {
   "cell_type": "code",
   "execution_count": 107,
   "metadata": {},
   "outputs": [
    {
     "name": "stdout",
     "output_type": "stream",
     "text": [
      "Exeception occured:(1064, \"You have an error in your SQL syntax; check the manual that corresponds to your MariaDB server version for the right syntax to use near 'int(15) PRIMARY KEY, question VARCHAR(100), answer VARCHAR(100))' at line 1\")\n"
     ]
    }
   ],
   "source": [
    "import pymysql\n",
    "\n",
    "conn = pymysql.connect(host='13.209.193.138',port=3306,user='root',passwd='test',db='mariaDB',charset=\"utf8\")\n",
    "try:\n",
    "    cursorObject = conn.cursor()                                     \n",
    "    sqlQuery = \"CREATE TABLE chatData ( index int(15) PRIMARY KEY, question VARCHAR(100), answer VARCHAR(100))\"\n",
    "    cursorObject.execute(sqlQuery)\n",
    "    rows = cursorObject.fetchall()\n",
    "    for row in rows:\n",
    "        print(row)\n",
    "except Exception as e:\n",
    "    print(\"Exeception occured:{}\".format(e))\n",
    "finally:    \n",
    "    conn.close()"
   ]
  },
  {
   "cell_type": "code",
   "execution_count": 108,
   "metadata": {},
   "outputs": [
    {
     "name": "stdout",
     "output_type": "stream",
     "text": [
      "{'Tables_in_mariaDB': 'auth_group'}\n",
      "{'Tables_in_mariaDB': 'auth_group_permissions'}\n",
      "{'Tables_in_mariaDB': 'auth_permission'}\n",
      "{'Tables_in_mariaDB': 'auth_user'}\n",
      "{'Tables_in_mariaDB': 'auth_user_groups'}\n",
      "{'Tables_in_mariaDB': 'auth_user_user_permissions'}\n",
      "{'Tables_in_mariaDB': 'chatData'}\n",
      "{'Tables_in_mariaDB': 'django_admin_log'}\n",
      "{'Tables_in_mariaDB': 'django_apscheduler_djangojob'}\n",
      "{'Tables_in_mariaDB': 'django_apscheduler_djangojobexecution'}\n",
      "{'Tables_in_mariaDB': 'django_content_type'}\n",
      "{'Tables_in_mariaDB': 'django_migrations'}\n",
      "{'Tables_in_mariaDB': 'django_session'}\n",
      "{'Tables_in_mariaDB': 'firstapp_xylocation'}\n",
      "{'Tables_in_mariaDB': 'mqttApp_message'}\n",
      "{'Tables_in_mariaDB': 'mqttApp_message2'}\n",
      "{'id': 1, 'question': 'test1', 'answer': 'test1'}\n",
      "{'id': 2, 'question': 'test2', 'answer': 'test1'}\n",
      "{'id': 3, 'question': 'test3', 'answer': 'test3'}\n"
     ]
    }
   ],
   "source": [
    "import pymysql\n",
    "\n",
    "dbServerName    = '13.209.193.138'\n",
    "dbUser          = \"root\"\n",
    "dbPassword      = \"test\"\n",
    "dbName          = \"mariaDB\"\n",
    "charSet         = \"utf8\"\n",
    "cusrorType      = pymysql.cursors.DictCursor\n",
    "\n",
    "connectionObject   = pymysql.connect(host=dbServerName, user=dbUser, password=dbPassword,\n",
    "                                     db=dbName, charset=charSet,cursorclass=cusrorType)\n",
    "\n",
    "try:\n",
    "    cursorObject = connectionObject.cursor()                                     \n",
    "    sqlQuery = \"CREATE TABLE IF NOT EXISTS chatData(id int, question varchar(100), answer varchar(100))\"   \n",
    "    cursorObject.execute(sqlQuery)\n",
    "    sqlQuery = \"show tables\"   \n",
    "    cursorObject.execute(sqlQuery)\n",
    "    rows = cursorObject.fetchall()\n",
    "    for row in rows:\n",
    "        print(row)\n",
    "\n",
    "    insertStatement = \"INSERT INTO chatData (id, question, answer) VALUES (1,'test1','test1')\"   \n",
    "    cursorObject.execute(insertStatement)\n",
    "    insertStatement = \"INSERT INTO chatData (id, question, answer) VALUES (2,'test2','test1')\"   \n",
    "    cursorObject.execute(insertStatement)\n",
    "    insertStatement = \"INSERT INTO chatData (id, question, answer) VALUES (3,'test3','test3')\"   \n",
    "    cursorObject.execute(insertStatement)\n",
    "    connectionObject.commit()\n",
    "\n",
    "    sqlQuery = \"select * from chatData\"   \n",
    "    cursorObject.execute(sqlQuery)\n",
    "    rows = cursorObject.fetchall()\n",
    "\n",
    "    for row in rows:\n",
    "        print(row)\n",
    "\n",
    "except Exception as e:\n",
    "    print(\"Exeception occured:{}\".format(e))\n",
    "finally:    \n",
    "    connectionObject.close()"
   ]
  },
  {
   "cell_type": "code",
   "execution_count": 118,
   "metadata": {},
   "outputs": [
    {
     "data": {
      "text/html": [
       "<div>\n",
       "<style scoped>\n",
       "    .dataframe tbody tr th:only-of-type {\n",
       "        vertical-align: middle;\n",
       "    }\n",
       "\n",
       "    .dataframe tbody tr th {\n",
       "        vertical-align: top;\n",
       "    }\n",
       "\n",
       "    .dataframe thead th {\n",
       "        text-align: right;\n",
       "    }\n",
       "</style>\n",
       "<table border=\"1\" class=\"dataframe\">\n",
       "  <thead>\n",
       "    <tr style=\"text-align: right;\">\n",
       "      <th></th>\n",
       "      <th>question</th>\n",
       "      <th>answer</th>\n",
       "      <th>Unnamed: 2</th>\n",
       "    </tr>\n",
       "  </thead>\n",
       "  <tbody>\n",
       "    <tr>\n",
       "      <th>0</th>\n",
       "      <td>﻿좋?� ?�침.</td>\n",
       "      <td>?�녕?�세??</td>\n",
       "      <td>NaN</td>\n",
       "    </tr>\n",
       "    <tr>\n",
       "      <th>1</th>\n",
       "      <td>좋�? ?�침.</td>\n",
       "      <td>반갑?�니??</td>\n",
       "      <td>NaN</td>\n",
       "    </tr>\n",
       "    <tr>\n",
       "      <th>2</th>\n",
       "      <td>좋�? ?�침.</td>\n",
       "      <td>좋�? ?�침?�에??</td>\n",
       "      <td>NaN</td>\n",
       "    </tr>\n",
       "    <tr>\n",
       "      <th>3</th>\n",
       "      <td>좋�? ?�침.</td>\n",
       "      <td>간밤??별일 ?�으?�죠?</td>\n",
       "      <td>NaN</td>\n",
       "    </tr>\n",
       "    <tr>\n",
       "      <th>4</th>\n",
       "      <td>좋�? ?�침.</td>\n",
       "      <td>?�녕?�십?�까?</td>\n",
       "      <td>NaN</td>\n",
       "    </tr>\n",
       "  </tbody>\n",
       "</table>\n",
       "</div>"
      ],
      "text/plain": [
       "    question          answer Unnamed: 2\n",
       "0  ﻿좋?� ?�침.        ?�녕?�세??        NaN\n",
       "1   좋�? ?�침.         반갑?�니??        NaN\n",
       "2   좋�? ?�침.    좋�? ?�침?�에??        NaN\n",
       "3   좋�? ?�침.  간밤??별일 ?�으?�죠?        NaN\n",
       "4   좋�? ?�침.      ?�녕?�십?�까?        NaN"
      ]
     },
     "execution_count": 118,
     "metadata": {},
     "output_type": "execute_result"
    }
   ],
   "source": [
    "import pandas as pd\n",
    "data = pd.read_csv('../data/Total_chat_data.csv')\n",
    "data.head()"
   ]
  }
 ],
 "metadata": {
  "kernelspec": {
   "display_name": "pydatavenv",
   "language": "python",
   "name": "pydatavenv"
  },
  "language_info": {
   "codemirror_mode": {
    "name": "ipython",
    "version": 3
   },
   "file_extension": ".py",
   "mimetype": "text/x-python",
   "name": "python",
   "nbconvert_exporter": "python",
   "pygments_lexer": "ipython3",
   "version": "3.8.8"
  }
 },
 "nbformat": 4,
 "nbformat_minor": 4
}
