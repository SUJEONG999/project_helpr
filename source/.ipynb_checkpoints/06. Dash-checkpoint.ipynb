{
 "cells": [
  {
   "cell_type": "code",
   "execution_count": 35,
   "metadata": {},
   "outputs": [
    {
     "name": "stdout",
     "output_type": "stream",
     "text": [
      "2398\n",
      "1\n",
      "----------------------------------------------\n"
     ]
    }
   ],
   "source": [
    "import pymysql\n",
    "conn = pymysql.connect(host='13.209.193.138',port=3306,user='root',passwd='test',db='mariaDB1')\n",
    "try:\n",
    "    cur = conn.cursor()\n",
    "    sql = 'SELECT(Q) FROM firstapp_chatdata'\n",
    "    cur.execute(sql)\n",
    "    result = cur.fetchall()\n",
    "    print(len(result))    # row\n",
    "    print(len(result[0])) # columns\n",
    "    print(\"----------------------------------------------\")\n",
    "#     for row in result:\n",
    "#         print(f'{row[\"No\"]} {row[\"Question\"]} {row[\"Answer\"]}')\n",
    "finally:\n",
    "    conn.close()"
   ]
  },
  {
   "cell_type": "code",
   "execution_count": 51,
   "metadata": {},
   "outputs": [],
   "source": [
    "df = pd.DataFrame(result)\n",
    "df1 = df.iloc[:,0]"
   ]
  },
  {
   "cell_type": "code",
   "execution_count": 52,
   "metadata": {},
   "outputs": [],
   "source": [
    "from konlpy.tag import Okt\n",
    "from collections import Counter"
   ]
  },
  {
   "cell_type": "code",
   "execution_count": 53,
   "metadata": {},
   "outputs": [],
   "source": [
    "import re\n",
    "# title data 합치기 (제거: '\\n')\n",
    "message = ''\n",
    "for item in df1:\n",
    "    message = message + re.sub('[^\\w]', ' ', item) +''"
   ]
  },
  {
   "cell_type": "code",
   "execution_count": 54,
   "metadata": {},
   "outputs": [],
   "source": [
    "# 명사 추출\n",
    "nlp = Okt()\n",
    "message_N = nlp.nouns(message)\n",
    "# message_N"
   ]
  },
  {
   "cell_type": "code",
   "execution_count": 56,
   "metadata": {},
   "outputs": [],
   "source": [
    "# 단어 빈도 확인\n",
    "count = Counter(message_N)\n",
    "word_count = dict()\n",
    "\n",
    "for tag, counts in count.most_common(200):\n",
    "    if(len(str(tag))>1):\n",
    "        word_count[tag] = counts\n",
    "#         print(tag,':',counts)"
   ]
  },
  {
   "cell_type": "code",
   "execution_count": null,
   "metadata": {},
   "outputs": [],
   "source": []
  },
  {
   "cell_type": "code",
   "execution_count": null,
   "metadata": {},
   "outputs": [],
   "source": [
    "import pandas as pd\n",
    "import matplotlib.pyplot as plt\n"
   ]
  }
 ],
 "metadata": {
  "kernelspec": {
   "display_name": "pydatavenv",
   "language": "python",
   "name": "pydatavenv"
  },
  "language_info": {
   "codemirror_mode": {
    "name": "ipython",
    "version": 3
   },
   "file_extension": ".py",
   "mimetype": "text/x-python",
   "name": "python",
   "nbconvert_exporter": "python",
   "pygments_lexer": "ipython3",
   "version": "3.8.8"
  }
 },
 "nbformat": 4,
 "nbformat_minor": 4
}
