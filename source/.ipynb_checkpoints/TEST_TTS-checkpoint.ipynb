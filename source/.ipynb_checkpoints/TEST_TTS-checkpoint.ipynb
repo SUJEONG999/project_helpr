{
 "cells": [
  {
   "cell_type": "markdown",
   "metadata": {},
   "source": [
    "# Kakao\n",
    "- TTS\n",
    "- https://developers.kakao.com/docs/latest/ko/voice/common"
   ]
  },
  {
   "cell_type": "code",
   "execution_count": null,
   "metadata": {},
   "outputs": [],
   "source": [
    "import requests\n",
    "import json\n",
    "\n",
    "kakao_tts_url = \"https://kakaoi-newtone-openapi.kakao.com/v1/synthesize\"\n",
    "rest_api_key = \"ca81e7d531cb763516cff028d1b5d670\"\n",
    "\n",
    "headers = {\n",
    "\"Content-Type\":\"application/xml\",\n",
    "\"Authorization\":rest_api_key,\n",
    "}\n",
    "\n",
    "data = {'<speak> 그는 그렇게 말했습니다.\n",
    "        <voice name=\"MAN_DIALOG_BRIGHT\">잘 지냈어? 나도 잘 지냈어.</voice> \n",
    "        <voice name=\"WOMAN_DIALOG_BRIGHT\" speechStyle=\"SS_ALT_FAST_1\">금요일이 좋아요.</voice> </speak>'}\n",
    "\n",
    "response = requests.post(\"https://kakaoi-newtone-openapi.kakao.com/v1/synthesize\", headers=headers, data=data)\n",
    "response\n",
    "# rescode = response.status_code"
   ]
  },
  {
   "cell_type": "code",
   "execution_count": null,
   "metadata": {},
   "outputs": [],
   "source": [
    "if(rescode==200):\n",
    "    print(\"TTS mp3 저장\")\n",
    "    response_body = response.read()\n",
    "\n",
    "    with open(\"result.mp3\", \"wb\") as f:\n",
    "        f.write(response_body)\n",
    "else:\n",
    "    print(\"Error Code:\"+str(rescode))\n",
    "    print(response.content)\n",
    "\n",
    "# 결과\n",
    "# Error Code:400\n",
    "# b’{“code”:400,“description”:“fail to parse the xml body”}’"
   ]
  },
  {
   "cell_type": "markdown",
   "metadata": {},
   "source": [
    "# Naver\n",
    "- 음성 캡차 API\n",
    "- https://api.ncloud-docs.com/docs/ai-naver-captcha-audio"
   ]
  },
  {
   "cell_type": "code",
   "execution_count": 62,
   "metadata": {},
   "outputs": [
    {
     "name": "stdout",
     "output_type": "stream",
     "text": [
      "{\"key\":\"m3RirDQ38WXEFnMC\"}\n"
     ]
    }
   ],
   "source": [
    "import os\n",
    "import sys\n",
    "import urllib.request\n",
    "client_id = \"i98kj1fd7s\"\n",
    "client_secret = \"mOe8OHVBk1LugQTr46FyiApbub8cSgHUCOC4A8hX\"\n",
    "code = \"0\"\n",
    "url = \"https://naveropenapi.apigw.ntruss.com/scaptcha/v1/skey?code=\" + code\n",
    "request = urllib.request.Request(url)\n",
    "request.add_header(\"X-NCP-APIGW-API-KEY-ID\",client_id)\n",
    "request.add_header(\"X-NCP-APIGW-API-KEY\",client_secret)\n",
    "response = urllib.request.urlopen(request)\n",
    "rescode = response.getcode()\n",
    "if(rescode==200):\n",
    "    response_body = response.read()\n",
    "    print(response_body.decode('utf-8'))\n",
    "else:\n",
    "    print(\"Error Code:\" + rescode)"
   ]
  },
  {
   "cell_type": "code",
   "execution_count": 64,
   "metadata": {},
   "outputs": [
    {
     "name": "stdout",
     "output_type": "stream",
     "text": [
      "캡차 음성 저장\n"
     ]
    }
   ],
   "source": [
    "# 네이버 캡차 API 예제 - 음성수신\n",
    "import os\n",
    "import sys\n",
    "import urllib.request\n",
    "client_id = \"i98kj1fd7s\"\n",
    "key = \"m3RirDQ38WXEFnMC\" # 캡차 Key 값\n",
    "url = \"https://naveropenapi.apigw.ntruss.com/scaptcha-bin/v1/scaptcha?key=\" + key + \"&X-NCP-APIGW-API-KEY-ID=\" + client_id;\n",
    "request = urllib.request.Request(url)\n",
    "response = urllib.request.urlopen(request)\n",
    "rescode = response.getcode()\n",
    "if(rescode==200):\n",
    "    print(\"캡차 음성 저장\")\n",
    "    response_body = response.read()\n",
    "    with open('captcha.wav', 'wb') as f:\n",
    "        f.write(response_body)\n",
    "else:\n",
    "    print(\"Error Code:\" + rescode)"
   ]
  },
  {
   "cell_type": "code",
   "execution_count": 65,
   "metadata": {},
   "outputs": [
    {
     "name": "stdout",
     "output_type": "stream",
     "text": [
      "{\"result\":false}\n"
     ]
    }
   ],
   "source": [
    "# 네이버 캡차 Open API 예제 - 키 입력값 비교\n",
    "import os\n",
    "import sys\n",
    "import urllib.request\n",
    "client_id = \"i98kj1fd7s\"\n",
    "client_secret = \"mOe8OHVBk1LugQTr46FyiApbub8cSgHUCOC4A8hX\"\n",
    "code = \"1\"\n",
    "key = \"m3RirDQ38WXEFnMC\"\n",
    "value = \"YOUR_CAPTCHA_VALUE\"\n",
    "url = \"https://naveropenapi.apigw.ntruss.com/scaptcha/v1/skey?code=\" + code + \"&key=\" + key + \"&value=\" + value\n",
    "request = urllib.request.Request(url)\n",
    "request.add_header(\"X-NCP-APIGW-API-KEY-ID\",client_id)\n",
    "request.add_header(\"X-NCP-APIGW-API-KEY\",client_secret)\n",
    "response = urllib.request.urlopen(request)\n",
    "rescode = response.getcode()\n",
    "if(rescode==200):\n",
    "    response_body = response.read()\n",
    "    print(response_body.decode('utf-8'))\n",
    "else:\n",
    "    print(\"Error Code:\" + rescode)"
   ]
  },
  {
   "cell_type": "markdown",
   "metadata": {},
   "source": [
    "# Naver\n",
    "- CLOVA Voice - Premium API\n",
    "- TTS\n",
    "- https://api.ncloud-docs.com/docs/ai-naver-clovavoice-ttspremium"
   ]
  },
  {
   "cell_type": "markdown",
   "metadata": {},
   "source": [
    "####  sample1"
   ]
  },
  {
   "cell_type": "code",
   "execution_count": 68,
   "metadata": {},
   "outputs": [
    {
     "name": "stdout",
     "output_type": "stream",
     "text": [
      "TTS mp3 저장\n"
     ]
    }
   ],
   "source": [
    "# // 네이버 음성합성 Open API 예제\n",
    "import os\n",
    "import sys\n",
    "import urllib.request\n",
    "client_id = \"i98kj1fd7s\"\n",
    "client_secret = \"mOe8OHVBk1LugQTr46FyiApbub8cSgHUCOC4A8hX\"\n",
    "encText = urllib.parse.quote(\"반갑습니다 네이버\")\n",
    "data = \"speaker=nara&volume=0&speed=0&pitch=0&format=mp3&text=\" + encText;\n",
    "url = \"https://naveropenapi.apigw.ntruss.com/tts-premium/v1/tts\"\n",
    "request = urllib.request.Request(url)\n",
    "request.add_header(\"X-NCP-APIGW-API-KEY-ID\",client_id)\n",
    "request.add_header(\"X-NCP-APIGW-API-KEY\",client_secret)\n",
    "response = urllib.request.urlopen(request, data=data.encode('utf-8'))\n",
    "rescode = response.getcode()\n",
    "if(rescode==200):\n",
    "    print(\"TTS mp3 저장\")\n",
    "    response_body = response.read()\n",
    "    with open('1111.mp3', 'wb') as f:\n",
    "        f.write(response_body)\n",
    "else:\n",
    "    print(\"Error Code:\" + rescode)"
   ]
  },
  {
   "cell_type": "markdown",
   "metadata": {},
   "source": [
    "#### sample2\n",
    "- 목소리, 재생속도, 볼륨, 피치, 포켓 변경"
   ]
  },
  {
   "cell_type": "code",
   "execution_count": null,
   "metadata": {},
   "outputs": [],
   "source": [
    "import os\n",
    "import sys\n",
    "import urllib\n",
    "import urllib2\n",
    "reload(sys)\n",
    "sys.setdefaultencoding('utf-8')\n",
    "client_id = \"YOUR_CLIENT_ID\" # 애플리케이션 클라이언트 아이디값\"\n",
    "client_secret = \"YOUR_CLIENT_SECRET\" # 애플리케이션 클라이언트 시크릿값\"\n",
    "text = unicode(\"반갑습니다 네이버\") # 음성 합성할 문장\n",
    "speaker = \"nara\" # 음성 합성에 사용할 목소리 종류\n",
    "speed = \"0\" # 음성 재생 속도\n",
    "volume = \"0\" # 음성 볼륨\n",
    "pitch = \"0\" # 음성 피치\n",
    "fmt = \"mp3\" # 음성 포멧\n",
    "val = {\n",
    "    \"speaker\": speaker,\n",
    "    \"volume\": volume,\n",
    "    \"speed\":speed,\n",
    "    \"pitch\": pitch,\n",
    "    \"text\":text,\n",
    "    \"format\": fmt\n",
    "}\n",
    "data = urllib.urlencode(val)\n",
    "url = \"https://naveropenapi.apigw.ntruss.com/tts-premium/v1/tts\"\n",
    "headers = {\n",
    "    \"X-NCP-APIGW-API-KEY-ID\" : client_id,\n",
    "    \"X-NCP-APIGW-API-KEY\" : client_secret\n",
    "}\n",
    "request = urllib2.Request(url, data, headers)\n",
    "response = urllib2.urlopen(request)\n",
    "rescode = response.getcode()\n",
    "if(rescode==200):\n",
    "    print(\"TTS mp3 save\")\n",
    "    response_body = response.read()\n",
    "    with open('1111.mp3', 'wb') as f:\n",
    "        f.write(response_body)\n",
    "else:\n",
    "    print(\"Error Code:\" + rescode)"
   ]
  }
 ],
 "metadata": {
  "kernelspec": {
   "display_name": "pydatavenv",
   "language": "python",
   "name": "pydatavenv"
  },
  "language_info": {
   "codemirror_mode": {
    "name": "ipython",
    "version": 3
   },
   "file_extension": ".py",
   "mimetype": "text/x-python",
   "name": "python",
   "nbconvert_exporter": "python",
   "pygments_lexer": "ipython3",
   "version": "3.8.8"
  }
 },
 "nbformat": 4,
 "nbformat_minor": 4
}
