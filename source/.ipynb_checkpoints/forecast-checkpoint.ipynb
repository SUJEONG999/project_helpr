{
 "cells": [
  {
   "cell_type": "markdown",
   "metadata": {},
   "source": [
    "# 기상청\n",
    "- 동네예보 데이터 가지고 오기\n",
    "- https://www.data.go.kr/tcs/dss/selectApiDataDetailView.do?publicDataPk=15057682"
   ]
  },
  {
   "cell_type": "code",
   "execution_count": 22,
   "metadata": {},
   "outputs": [
    {
     "data": {
      "text/plain": [
       "datetime.datetime(2021, 5, 6, 10, 2, 54, 433722)"
      ]
     },
     "execution_count": 22,
     "metadata": {},
     "output_type": "execute_result"
    }
   ],
   "source": [
    "import requests\n",
    "import json\n",
    "import datetime\n",
    "\n",
    "vilage_weather_url = \"http://apis.data.go.kr/1360000/VilageFcstInfoService/getVilageFcst?\"\n",
    "\n",
    "service_key = \"nEOjm%2Bh6MajezPL97GQY7jDUzDS5L2qvhY4G%2BKfjjxqYULz7folcVjjKi1Q%2BgkD8P94Wowq7l24kNayBKGmsIA%3D%3D\"\n",
    "\n",
    "today = datetime.datetime.today() # 오늘의 날씨를 알려주는 함수\n",
    "today"
   ]
  },
  {
   "cell_type": "code",
   "execution_count": 23,
   "metadata": {},
   "outputs": [
    {
     "data": {
      "text/plain": [
       "'20210506'"
      ]
     },
     "execution_count": 23,
     "metadata": {},
     "output_type": "execute_result"
    }
   ],
   "source": [
    "base_date = today.strftime(\"%Y%m%d\") # \"20200214\" == 기준 날짜\n",
    "base_date"
   ]
  },
  {
   "cell_type": "code",
   "execution_count": 24,
   "metadata": {},
   "outputs": [],
   "source": [
    "base_time = \"0800\" # 날씨 값"
   ]
  },
  {
   "cell_type": "code",
   "execution_count": 25,
   "metadata": {},
   "outputs": [],
   "source": [
    "nx = \"60\" # 서울시 정릉3동\n",
    "ny = \"128\" # 서울시 정릉3동"
   ]
  },
  {
   "cell_type": "code",
   "execution_count": 26,
   "metadata": {},
   "outputs": [
    {
     "data": {
      "text/plain": [
       "200"
      ]
     },
     "execution_count": 26,
     "metadata": {},
     "output_type": "execute_result"
    }
   ],
   "source": [
    "payload = \"serviceKey=\" + service_key + \"&\" +\\\n",
    "        \"dataType=json\" + \"&\" +\\\n",
    "        \"base_date=\" + base_date + \"&\" +\\\n",
    "        \"base_time=\" + base_time + \"&\" +\\\n",
    "        \"nx=\" + nx + \"&\" +\\\n",
    "        \"ny=\" + ny\n",
    "\n",
    "# 값 요청\n",
    "res = requests.get(vilage_weather_url + payload)\n",
    "res.status_code"
   ]
  },
  {
   "cell_type": "code",
   "execution_count": 77,
   "metadata": {},
   "outputs": [
    {
     "data": {
      "text/plain": [
       "{'item': [{'baseDate': '20210506',\n",
       "   'baseTime': '0800',\n",
       "   'category': 'POP',\n",
       "   'fcstDate': '20210506',\n",
       "   'fcstTime': '1200',\n",
       "   'fcstValue': '10',\n",
       "   'nx': 60,\n",
       "   'ny': 128},\n",
       "  {'baseDate': '20210506',\n",
       "   'baseTime': '0800',\n",
       "   'category': 'PTY',\n",
       "   'fcstDate': '20210506',\n",
       "   'fcstTime': '1200',\n",
       "   'fcstValue': '0',\n",
       "   'nx': 60,\n",
       "   'ny': 128},\n",
       "  {'baseDate': '20210506',\n",
       "   'baseTime': '0800',\n",
       "   'category': 'R06',\n",
       "   'fcstDate': '20210506',\n",
       "   'fcstTime': '1200',\n",
       "   'fcstValue': '0',\n",
       "   'nx': 60,\n",
       "   'ny': 128},\n",
       "  {'baseDate': '20210506',\n",
       "   'baseTime': '0800',\n",
       "   'category': 'REH',\n",
       "   'fcstDate': '20210506',\n",
       "   'fcstTime': '1200',\n",
       "   'fcstValue': '35',\n",
       "   'nx': 60,\n",
       "   'ny': 128},\n",
       "  {'baseDate': '20210506',\n",
       "   'baseTime': '0800',\n",
       "   'category': 'S06',\n",
       "   'fcstDate': '20210506',\n",
       "   'fcstTime': '1200',\n",
       "   'fcstValue': '0',\n",
       "   'nx': 60,\n",
       "   'ny': 128},\n",
       "  {'baseDate': '20210506',\n",
       "   'baseTime': '0800',\n",
       "   'category': 'SKY',\n",
       "   'fcstDate': '20210506',\n",
       "   'fcstTime': '1200',\n",
       "   'fcstValue': '1',\n",
       "   'nx': 60,\n",
       "   'ny': 128},\n",
       "  {'baseDate': '20210506',\n",
       "   'baseTime': '0800',\n",
       "   'category': 'T3H',\n",
       "   'fcstDate': '20210506',\n",
       "   'fcstTime': '1200',\n",
       "   'fcstValue': '19',\n",
       "   'nx': 60,\n",
       "   'ny': 128},\n",
       "  {'baseDate': '20210506',\n",
       "   'baseTime': '0800',\n",
       "   'category': 'UUU',\n",
       "   'fcstDate': '20210506',\n",
       "   'fcstTime': '1200',\n",
       "   'fcstValue': '1.5',\n",
       "   'nx': 60,\n",
       "   'ny': 128},\n",
       "  {'baseDate': '20210506',\n",
       "   'baseTime': '0800',\n",
       "   'category': 'VEC',\n",
       "   'fcstDate': '20210506',\n",
       "   'fcstTime': '1200',\n",
       "   'fcstValue': '207',\n",
       "   'nx': 60,\n",
       "   'ny': 128},\n",
       "  {'baseDate': '20210506',\n",
       "   'baseTime': '0800',\n",
       "   'category': 'VVV',\n",
       "   'fcstDate': '20210506',\n",
       "   'fcstTime': '1200',\n",
       "   'fcstValue': '2.9',\n",
       "   'nx': 60,\n",
       "   'ny': 128}]}"
      ]
     },
     "execution_count": 77,
     "metadata": {},
     "output_type": "execute_result"
    }
   ],
   "source": [
    "# res.json()\n",
    "items = res.json().get('response').get('body').get('items')\n",
    "items"
   ]
  },
  {
   "cell_type": "code",
   "execution_count": 69,
   "metadata": {},
   "outputs": [
    {
     "data": {
      "text/plain": [
       "{'code': '0', 'state': '없음', 'tmp': '19'}"
      ]
     },
     "execution_count": 69,
     "metadata": {},
     "output_type": "execute_result"
    }
   ],
   "source": [
    "data = dict()\n",
    "data['date'] = base_date\n",
    "\n",
    "weather_data = dict()\n",
    "for item in items['item']:\n",
    "    # 기온\n",
    "    if item['category'] == 'T3H':\n",
    "        weather_data['tmp'] = item['fcstValue']\n",
    "    \n",
    "    # 기상상태\n",
    "    if item['category'] == 'PTY':\n",
    "        \n",
    "        weather_code = item['fcstValue']\n",
    "        \n",
    "        if weather_code == '1':\n",
    "            weather_state = '비'\n",
    "        elif weather_code == '2':\n",
    "            weather_state = '비/눈'\n",
    "        elif weather_code == '3':\n",
    "            weather_state = '눈'\n",
    "        elif weather_code == '4':\n",
    "            weather_state = '소나기'\n",
    "        else:\n",
    "            weather_state = '없음'\n",
    "        \n",
    "        weather_data['code'] = weather_code\n",
    "        weather_data['state'] = weather_state\n",
    "\n",
    "data['weather'] = weather_data\n",
    "data['weather']\n",
    "# {'code': '0', 'state': '없음', 'tmp': '9'} # 9도 / 기상 이상 없음"
   ]
  },
  {
   "cell_type": "code",
   "execution_count": 84,
   "metadata": {},
   "outputs": [
    {
     "data": {
      "text/plain": [
       "'오늘의 온도는 19도 입니다'"
      ]
     },
     "execution_count": 84,
     "metadata": {},
     "output_type": "execute_result"
    }
   ],
   "source": [
    "text = '오늘의 온도는 ' + weather_data['tmp'] + '도 입니다'\n",
    "text"
   ]
  }
 ],
 "metadata": {
  "kernelspec": {
   "display_name": "pydatavenv",
   "language": "python",
   "name": "pydatavenv"
  },
  "language_info": {
   "codemirror_mode": {
    "name": "ipython",
    "version": 3
   },
   "file_extension": ".py",
   "mimetype": "text/x-python",
   "name": "python",
   "nbconvert_exporter": "python",
   "pygments_lexer": "ipython3",
   "version": "3.8.8"
  }
 },
 "nbformat": 4,
 "nbformat_minor": 4
}
