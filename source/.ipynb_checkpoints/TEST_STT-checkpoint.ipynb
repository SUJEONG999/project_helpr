{
 "cells": [
  {
   "cell_type": "markdown",
   "metadata": {},
   "source": [
    "# 음성인식 (STT)"
   ]
  },
  {
   "cell_type": "markdown",
   "metadata": {},
   "source": [
    "## Step 1-1 음성 파일을 통한 음성인식 (STT)\n",
    "- 구글 API 활용\n",
    "- 오디오 -> 텍스트"
   ]
  },
  {
   "cell_type": "code",
   "execution_count": 1,
   "metadata": {},
   "outputs": [
    {
     "name": "stdout",
     "output_type": "stream",
     "text": [
      "Google Speech Recognition thinks you said : 안녕하세요 오늘도 멋진 하루 되세요\n"
     ]
    }
   ],
   "source": [
    "import speech_recognition as sr\n",
    "\n",
    "# audio file (음성파일)\n",
    "AUDIO_FILE = \"hello.wav\"\n",
    "\n",
    "# audio file을 audio source로 사용합니다\n",
    "r = sr.Recognizer()\n",
    "with sr.AudioFile(AUDIO_FILE) as source:\n",
    "    audio = r.record(source)  # 전체 audio file 읽기\n",
    "\n",
    "# 구글 웹 음성 API로 인식하기 (하루에 제한 50회)\n",
    "try:\n",
    "    print(\"Google Speech Recognition thinks you said : \" + r.recognize_google(audio, language='ko'))\n",
    "except sr.UnknownValueError:\n",
    "    print(\"Google Speech Recognition could not understand audio\")\n",
    "except sr.RequestError as e:\n",
    "    print(\"Could not request results from Google Speech Recognition service; {0}\".format(e))"
   ]
  },
  {
   "cell_type": "markdown",
   "metadata": {},
   "source": [
    "## Step 2-2) 마이크를 이용한 음성인식\n",
    "- 구글 API 활용\n",
    "- 마이크 -> 텍스트"
   ]
  },
  {
   "cell_type": "code",
   "execution_count": 3,
   "metadata": {},
   "outputs": [
    {
     "name": "stdout",
     "output_type": "stream",
     "text": [
      "Say something!\n",
      "Google Speech Recognition thinks you said : 안녕하세요 저는\n"
     ]
    }
   ],
   "source": [
    "import speech_recognition as sr\n",
    "\n",
    "# microphone에서 auido source를 생성합니다\n",
    "r = sr.Recognizer()\n",
    "with sr.Microphone() as source:\n",
    "    print(\"Say something!\")\n",
    "    audio = r.listen(source)\n",
    "\n",
    "# 구글 웹 음성 API로 인식하기 (하루에 제한 50회)\n",
    "try:\n",
    "    print(\"Google Speech Recognition thinks you said : \" + r.recognize_google(audio, language='ko'))\n",
    "except sr.UnknownValueError:\n",
    "    print(\"Google Speech Recognition could not understand audio\")\n",
    "except sr.RequestError as e:\n",
    "    print(\"Could not request results from Google Speech Recognition service; {0}\".format(e))"
   ]
  },
  {
   "cell_type": "markdown",
   "metadata": {},
   "source": [
    "## Step 2-3) 파일 저장\n",
    "- 마이크로 녹음된 파일 저장"
   ]
  },
  {
   "cell_type": "code",
   "execution_count": null,
   "metadata": {},
   "outputs": [],
   "source": [
    "# write audio to a WAV file\n",
    "with open(\"microphone-results.wav\", \"wb\") as f:\n",
    "    f.write(audio.get_wav_data())"
   ]
  },
  {
   "cell_type": "markdown",
   "metadata": {},
   "source": [
    "# kakao - Speech Recognition\n",
    "- 오디오 -> 텍스트"
   ]
  },
  {
   "cell_type": "code",
   "execution_count": 8,
   "metadata": {},
   "outputs": [],
   "source": [
    "import requests\n",
    "import json"
   ]
  },
  {
   "cell_type": "code",
   "execution_count": 23,
   "metadata": {},
   "outputs": [],
   "source": [
    "kakao_speech_url = \"https://kakaoi-newtone-openapi.kakao.com/v1/recognize\"\n",
    "\n",
    "rest_api_key = 'ca81e7d531cb763516cff028d1b5d670'\n",
    "\n",
    "headers = {\n",
    "    \"Content-Type\": \"application/octet-stream\",\n",
    "    \"X-DSS-Service\": \"DICTATION\",\n",
    "    \"Authorization\": \"KakaoAK \" + rest_api_key,\n",
    "}\n",
    "\n",
    "with open('heykakao.wav', 'rb') as fp:\n",
    "    audio = fp.read()\n",
    "\n",
    "res = requests.post(kakao_speech_url, headers=headers, data=audio)"
   ]
  },
  {
   "cell_type": "code",
   "execution_count": 24,
   "metadata": {},
   "outputs": [
    {
     "name": "stdout",
     "output_type": "stream",
     "text": [
      "------newtoneEys1KeBwrU5fSxV0\n",
      "Content-Type: application/json; charset=UTF-8\n",
      "\n",
      "{\"type\":\"beginPointDetection\",\"value\":\"BPD\"}\n",
      "------newtoneEys1KeBwrU5fSxV0\n",
      "Content-Type: application/json; charset=UTF-8\n",
      "\n",
      "{\"type\":\"partialResult\",\"value\":\"헤이\"}\n",
      "------newtoneEys1KeBwrU5fSxV0\n",
      "Content-Type: application/json; charset=UTF-8\n",
      "\n",
      "{\"type\":\"partialResult\",\"value\":\"헤이 카카오\"}\n",
      "------newtoneEys1KeBwrU5fSxV0\n",
      "Content-Type: application/json; charset=UTF-8\n",
      "\n",
      "{\"type\":\"endPointDetection\",\"value\":\"EPD\"}\n",
      "------newtoneEys1KeBwrU5fSxV0\n",
      "Content-Type: application/json; charset=UTF-8\n",
      "Speech-Length: 2\n",
      "\n",
      "{\"type\":\"finalResult\",\"value\":\"헤이 카카오\",\"nBest\":[{\"value\":\"헤이 카카오\",\"score\":96}],\"voiceProfile\":{\"registered\":false,\"authenticated\":false},\"durationMS\":2880,\"qmarkScore\":0,\"gender\":0}\n",
      "------newtoneEys1KeBwrU5fSxV0--\n",
      "\n"
     ]
    }
   ],
   "source": [
    "print(res.text)"
   ]
  },
  {
   "cell_type": "markdown",
   "metadata": {},
   "source": [
    "# 카카오 API 토큰 받기\n",
    "- access token\n",
    "- refresh token)"
   ]
  },
  {
   "cell_type": "code",
   "execution_count": null,
   "metadata": {},
   "outputs": [],
   "source": []
  },
  {
   "cell_type": "code",
   "execution_count": 16,
   "metadata": {},
   "outputs": [
    {
     "name": "stdout",
     "output_type": "stream",
     "text": [
      "{'access_token': 'x_j3ZO5SbwGBUkrp8fX3nY57PEQ73ylnnHxMego9c-sAAAF5Nzyy9A', 'token_type': 'bearer', 'refresh_token': 'eNsueXRd0vrYrCVq8OuP9EzdZH0_t2ASRhJnSAo9c-sAAAF5Nzyy8w', 'expires_in': 21599, 'scope': 'account_email talk_message profile', 'refresh_token_expires_in': 5183999}\n"
     ]
    }
   ],
   "source": [
    "import requests\n",
    "import json\n",
    "\n",
    "url = \"https://kauth.kakao.com/oauth/token\"\n",
    "\n",
    "data = {\n",
    "    \"grant_type\" : \"authorization_code\",\n",
    "    \"client_id\" : \"ca81e7d531cb763516cff028d1b5d670\",\n",
    "    \"redirect_uri\" : \"https://localhost.com\",\n",
    "    \"code\"         : \"87uMpIpVqRzpfzsINbHIbSgBiVfwERv9NMolCWGzdRrqoSw66h61lod_lPNyLluLSL-1NAo9dVwAAAF5NztgXw\"\n",
    "    \n",
    "}\n",
    "response = requests.post(url, data=data)\n",
    "\n",
    "tokens = response.json()\n",
    "\n",
    "print(tokens)"
   ]
  },
  {
   "cell_type": "code",
   "execution_count": 17,
   "metadata": {},
   "outputs": [],
   "source": [
    "# json 파일로 토큰 저장\n",
    "with open(\"kakao_token.json\", \"w\") as fp:\n",
    "    json.dump(tokens, fp)"
   ]
  },
  {
   "cell_type": "code",
   "execution_count": null,
   "metadata": {},
   "outputs": [],
   "source": []
  }
 ],
 "metadata": {
  "kernelspec": {
   "display_name": "pydatavenv",
   "language": "python",
   "name": "pydatavenv"
  },
  "language_info": {
   "codemirror_mode": {
    "name": "ipython",
    "version": 3
   },
   "file_extension": ".py",
   "mimetype": "text/x-python",
   "name": "python",
   "nbconvert_exporter": "python",
   "pygments_lexer": "ipython3",
   "version": "3.8.8"
  }
 },
 "nbformat": 4,
 "nbformat_minor": 4
}
