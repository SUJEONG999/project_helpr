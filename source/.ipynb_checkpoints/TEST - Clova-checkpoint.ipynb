{
 "cells": [
  {
   "cell_type": "markdown",
   "metadata": {},
   "source": [
    "# 기상청 API\n",
    "- 오늘의 예보 데이터 가져오기\n",
    "- https://www.data.go.kr/tcs/dss/selectApiDataDetailView.do?publicDataPk=15057682"
   ]
  },
  {
   "cell_type": "code",
   "execution_count": 2,
   "metadata": {},
   "outputs": [],
   "source": [
    "import requests\n",
    "import json\n",
    "import datetime\n",
    "\n",
    "vilage_weather_url = \"http://apis.data.go.kr/1360000/VilageFcstInfoService/getVilageFcst?\"\n",
    "\n",
    "service_key = \"nEOjm%2Bh6MajezPL97GQY7jDUzDS5L2qvhY4G%2BKfjjxqYULz7folcVjjKi1Q%2BgkD8P94Wowq7l24kNayBKGmsIA%3D%3D\"\n",
    "\n",
    "today = datetime.datetime.today() # 오늘의 날씨를 알려주는 함수\n",
    "\n",
    "base_date = today.strftime(\"%Y%m%d\") # \"20200214\" == 기준 날짜\n",
    "base_time = \"0800\" # 날씨 값\n",
    "\n",
    "nx = \"60\" # 서울시 정릉3동\n",
    "ny = \"128\" # 서울시 정릉3동\n",
    "\n",
    "payload = \"serviceKey=\" + service_key + \"&\" +\\\n",
    "        \"dataType=json\" + \"&\" +\\\n",
    "        \"base_date=\" + base_date + \"&\" +\\\n",
    "        \"base_time=\" + base_time + \"&\" +\\\n",
    "        \"nx=\" + nx + \"&\" +\\\n",
    "        \"ny=\" + ny\n",
    "\n",
    "# 값 요청\n",
    "res = requests.get(vilage_weather_url + payload)\n",
    "res.status_code\n",
    "\n",
    "# res.json()\n",
    "items = res.json().get('response').get('body').get('items')\n",
    "# items"
   ]
  },
  {
   "cell_type": "code",
   "execution_count": 12,
   "metadata": {},
   "outputs": [
    {
     "data": {
      "text/plain": [
       "'오늘의 기온은 19도 입니다.'"
      ]
     },
     "execution_count": 12,
     "metadata": {},
     "output_type": "execute_result"
    }
   ],
   "source": [
    "for item in items['item']:\n",
    "    # 기온\n",
    "    if item['category'] == 'T3H':\n",
    "        temp = item['fcstValue']\n",
    "text_temp = '오늘의 기온은 ' + temp + '도 입니다.'\n",
    "text_temp"
   ]
  },
  {
   "cell_type": "markdown",
   "metadata": {},
   "source": [
    "# Naver\n",
    "- CLOVA Voice - Premium API\n",
    "- TTS (Text to Speech)\n",
    "- https://api.ncloud-docs.com/docs/ai-naver-clovavoice-ttspremium\n",
    "- https://console.ncloud.com/mc/solution/naverService/application"
   ]
  },
  {
   "cell_type": "code",
   "execution_count": 13,
   "metadata": {},
   "outputs": [
    {
     "name": "stdout",
     "output_type": "stream",
     "text": [
      "TTS mp3 저장\n"
     ]
    }
   ],
   "source": [
    "# 음성을 내보낼 텍스트와 파일이름 설정\n",
    "text = text_temp\n",
    "mp3_file_name = 'temp_test1'\n",
    "\n",
    "import os\n",
    "import sys\n",
    "import urllib.request\n",
    "client_id = \"i98kj1fd7s\"\n",
    "client_secret = \"mOe8OHVBk1LugQTr46FyiApbub8cSgHUCOC4A8hX\"\n",
    "encText = urllib.parse.quote(text)\n",
    "data = \"speaker=nara&volume=0&speed=0&pitch=0&format=mp3&text=\" + encText;\n",
    "url = \"https://naveropenapi.apigw.ntruss.com/tts-premium/v1/tts\"\n",
    "request = urllib.request.Request(url)\n",
    "request.add_header(\"X-NCP-APIGW-API-KEY-ID\",client_id)\n",
    "request.add_header(\"X-NCP-APIGW-API-KEY\",client_secret)\n",
    "response = urllib.request.urlopen(request, data=data.encode('utf-8'))\n",
    "rescode = response.getcode()\n",
    "if(rescode==200):\n",
    "    print(\"TTS mp3 저장\")\n",
    "    response_body = response.read()\n",
    "    with open(mp3_file_name+'.mp3', 'wb') as f:\n",
    "        f.write(response_body)\n",
    "else:\n",
    "    print(\"Error Code:\" + rescode)"
   ]
  },
  {
   "cell_type": "code",
   "execution_count": 11,
   "metadata": {},
   "outputs": [],
   "source": []
  }
 ],
 "metadata": {
  "kernelspec": {
   "display_name": "pydatavenv",
   "language": "python",
   "name": "pydatavenv"
  },
  "language_info": {
   "codemirror_mode": {
    "name": "ipython",
    "version": 3
   },
   "file_extension": ".py",
   "mimetype": "text/x-python",
   "name": "python",
   "nbconvert_exporter": "python",
   "pygments_lexer": "ipython3",
   "version": "3.8.8"
  }
 },
 "nbformat": 4,
 "nbformat_minor": 4
}
