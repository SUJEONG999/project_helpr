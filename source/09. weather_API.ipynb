{
 "cells": [
  {
   "cell_type": "markdown",
   "metadata": {},
   "source": [
    "# 기상청\n",
    "- 동네예보 데이터 가지고 오기\n",
    "- https://www.data.go.kr/tcs/dss/selectApiDataDetailView.do?publicDataPk=15057682\n",
    "____________________\n",
    "\n",
    "**요청 메시지 명세**\n",
    "- base_date(발표일자)\n",
    "- Base_time(발표시각) : 0200, 0500, 0800, 1100, 1400, 1700, 2000, 2300 (1일 8회)\n",
    "    - API 제공 시간(~이후) : 02:05, 05:05, 08:05, 11:05, 14:05, 17:05, 20:05, 23:05\n",
    "- nx(예보지점 X좌표), ny(예보지점 Y좌표)\n",
    "____________________\n",
    "\n",
    "**응답 메시지 명세**\n",
    "- category\n",
    "    - SKY: 하늘상태 - 맑음: 1 / 구름많음: 3 / 흐림: 4\n",
    "        - 3시간 단위로 현재 날씨상태를 응답\n",
    "        - ex) 06:00, 09:00, 12:00 .... 00:00\n",
    "    - PTY: 강수형태 - 없음: 0 / 비: 1 / 비/눈: 2 / 눈: 3 / 소나기: 4 / 빗방울: 5\n",
    "        - 3시간 단위로 현재 강수상태를 응답\n",
    "        - ex) 06:00, 09:00, 12:00 .... 00:00\n",
    "    - T3H: 3시간 온도\n",
    "        - 3시간 단위로 현재 온도를 응답\n",
    "        - ex) 06:00, 09:00, 12:00 .... 00:00\n",
    "    - TMX(낮 최고기온), TMN(아침 최저기온)\n",
    "        - TMX는 하루에 15:00 한번만 응답\n",
    "        - TMN는 하루에 06:00 한번만 응답\n",
    "- fcstValue(예보 값) - category의 값\n",
    "- fcstDate(예보일자), fcstTime(예보시각)\n",
    "____________________\n",
    "\n",
    "**호출함수**\n",
    "1. findLocation - (시, 구, 동)을 파라미터로 입력받아 <font color=red>x,y값(위치)</font>을 출력한다.\n",
    "2. getTempCurrent - x,y값을 파라미터로 입력받아서 현재시간 <font color=red>온도</font>를 출력한다. (3시간 단위/03:01 경우 06:00의 온도 출력)\n",
    "3. getWeatherCurrent - x,y값을 파라미터로 입력받아서 현재시간 <font color=red>날씨상태</font>를 출력한다. (3시간 단위/03:01 경우 06:00의 날씨상태 출력)\n",
    "4. getPrecipitationCurrent - x,y값을 파라미터로 입력받아서 현재시간 <font color=red>강수상태</font>를 출력한다. (3시간 단위/03:01 경우 06:00의 강수상태 출력)\n",
    "5. getTempMaxMinCurrent - x,y값을 파라미터로 입력받아서 <font color=red>당일의 아침 최저(06:00 기준), 오후 최고(15:00 기준)의 온도</font>를 출력한다.\n",
    "____________________\n",
    "\n",
    "**출력방법**\n",
    "- 1안: 매일 아침 08:05 시간에 한번 메세지를 출력 -> 음성 변환(TTS)\n",
    "    - 함수 5번만 출력한다.\n",
    "    - 메시지 내용: \"오늘 아침 최저기온은 15.0도 이고, 낮 최고기온은 26.0도 입니다.\"\n",
    "- 2-1안: 현재 온도와 현재 날씨를 알고 싶을 때 출력 -> 음성 변환(TTS)\n",
    "    - 함수 2번만 출력한다.\n",
    "    - \"메세지 내용: 현재 온도는 26 도 입니다.\n",
    "- 2-2안: 현재 온도와 현재 날씨를 알고 싶을 때 출력 -> 음성 변환(TTS)\n",
    "    - 함수 2번과 3번을 동시에 출력한다.\n",
    "    - \"메세지 내용: 현재 온도는 26 도 입니다. 현재 날씨는 맑음(or구름많음or흐림) 입니다.\n",
    "- 2-3안: 현재 온도와 현재 날씨를 알고 싶을 때 출력 -> 음성 변환(TTS)\n",
    "    - 함수 2번과 3번과 4번을 동시에 출력한다.\n",
    "    - \"메세지 내용: 현재 온도는 26 도 입니다. 현재 날씨는 맑음(or구름많음or흐림) 입니다. 현재 (비 또는 눈이 안/or/소나기가/or/빗방울이) 오고 있습니다.   \n",
    "____________________\n",
    "\n",
    "**주의사항**\n",
    "- 3번 함수와 4번함수를 동시에 출력할 경우 \n",
    "____________________"
   ]
  },
  {
   "cell_type": "markdown",
   "metadata": {},
   "source": [
    "#### **주소를 입력하여 x축과 y축 불러오는 함수 만들기**"
   ]
  },
  {
   "cell_type": "code",
   "execution_count": 227,
   "metadata": {},
   "outputs": [],
   "source": [
    "import pandas as pd\n",
    "\n",
    "def findLocation(si,goo,dong):\n",
    "    # 파일 불러오기\n",
    "    df = pd.read_excel('기상청18_동네예보 조회서비스_오픈API활용가이드_격자_위경도(20210401).xlsx', sheet_name = 1)\n",
    "    # df.info() # df = (columns: 17, rows: 3776)\n",
    "\n",
    "    df1 = df.filter(items=['1단계', '2단계', '3단계', '격자 X', '격자 Y']) # (시, 구, 동, x, y) columns 필터링\n",
    "    df2 = df1[df1['1단계'].isin([si]) & df1['2단계'].isin([goo]) & df1['3단계'].isin([dong])]\n",
    "    nx = df2.iloc[0, 3]\n",
    "    ny = df2.iloc[0, 4]\n",
    "    print(f\"x값: {nx}, y값: {ny}\") "
   ]
  },
  {
   "cell_type": "markdown",
   "metadata": {},
   "source": [
    "#### **주소를 입력하여 x축과 y축 불러오기**"
   ]
  },
  {
   "cell_type": "code",
   "execution_count": 228,
   "metadata": {},
   "outputs": [
    {
     "name": "stdin",
     "output_type": "stream",
     "text": [
      "거주하시는 \"시\"를 입력해주세요:  서울특별시\n",
      "거주하시는 \"구\"를 입력해주세요:  도봉구\n",
      "거주하시는 \"동\"를 입력해주세요:  창제1동\n"
     ]
    },
    {
     "name": "stdout",
     "output_type": "stream",
     "text": [
      "x값: 61, y값: 128\n"
     ]
    }
   ],
   "source": [
    "si = input('거주하시는 \"시\"를 입력해주세요: ')\n",
    "goo =  input('거주하시는 \"구\"를 입력해주세요: ')\n",
    "dong = input('거주하시는 \"동\"를 입력해주세요: ')\n",
    "findLocation(si,goo,dong)"
   ]
  },
  {
   "cell_type": "markdown",
   "metadata": {},
   "source": [
    "#### **현재 온도(T3H) 함수 만들기**"
   ]
  },
  {
   "cell_type": "code",
   "execution_count": 229,
   "metadata": {},
   "outputs": [],
   "source": [
    "import requests\n",
    "import json\n",
    "import datetime\n",
    "\n",
    "vilage_weather_url = \"http://apis.data.go.kr/1360000/VilageFcstInfoService/getVilageFcst?\"\n",
    "service_key = \"nEOjm%2Bh6MajezPL97GQY7jDUzDS5L2qvhY4G%2BKfjjxqYULz7folcVjjKi1Q%2BgkD8P94Wowq7l24kNayBKGmsIA%3D%3D\"\n",
    "\n",
    "def getTempCurrent(nx, ny):\n",
    "    today = datetime.datetime.today()       # 오늘의 날씨를 알려주는 함수\n",
    "    current_date = today.strftime(\"%Y%m%d\") # ex) 현재 날짜가 21년 5월 13일인 경우, '20210513' 출력\n",
    "    current_time = today.strftime(\"%H%M\")   # ex) 현재 시간이 14:15 인 경우, '1415' 출력\n",
    "    tomorrow_date = today + datetime.timedelta(days=1)\n",
    "    tomorrow_date = tomorrow_date.strftime(\"%Y%m%d\") # 내일 날짜\n",
    "    base_time = '0800'                    # 당일 08:00 발표시작으로 고정\n",
    "    \n",
    "    payload = \"serviceKey=\" + service_key + \"&\" +\\\n",
    "            \"numOfRows=100\" + \"&\" +\\\n",
    "            \"pageNo=1\" + \"&\" +\\\n",
    "            \"dataType=json\" + \"&\" +\\\n",
    "            \"base_date=\" + current_date + \"&\" +\\\n",
    "            \"base_time=\" + base_time + \"&\" +\\\n",
    "            \"nx=\" + nx + \"&\" +\\\n",
    "            \"ny=\" + ny\n",
    "    # print(vilage_weather_url+payload)  # API url 확인\n",
    "\n",
    "    # 값 요청\n",
    "    res = requests.get(vilage_weather_url + payload)\n",
    "    # res.status_code  # 200 정상 호출\n",
    "    # res.json()\n",
    "    items = res.json().get('response').get('body').get('items')\n",
    "\n",
    "    for item in items['item']:\n",
    "        if item['category'] == 'T3H':\n",
    "            if item['fcstDate'] == current_date and '0000' < current_time <= '0300':\n",
    "                if item['fcstTime'] == '0300':\n",
    "                    T3H = item['fcstValue']    \n",
    "            elif item['fcstDate'] == current_date and '0300' < current_time <= '0600':\n",
    "                if item['fcstTime'] == '0600':\n",
    "                    T3H = item['fcstValue']\n",
    "            elif item['fcstDate'] == current_date and '0600' < current_time <= '0900':\n",
    "                if item['fcstTime'] == '0900':\n",
    "                    T3H = item['fcstValue']\n",
    "            elif item['fcstDate'] == current_date and '0900' < current_time <= '1200':\n",
    "                if item['fcstTime'] == '1200':\n",
    "                    T3H = item['fcstValue']\n",
    "            elif item['fcstDate'] == current_date and '1200' < current_time <= '1500':\n",
    "                if item['fcstTime'] == '1500':\n",
    "                    T3H = item['fcstValue']\n",
    "            elif item['fcstDate'] == current_date and '1500' < current_time <= '1800':\n",
    "                if item['fcstTime'] == '1800':\n",
    "                    T3H = item['fcstValue']\n",
    "            elif item['fcstDate'] == current_date and '1800' < current_time <= '2100':\n",
    "                if item['fcstTime'] == '2100':\n",
    "                    T3H = item['fcstValue']\n",
    "            elif item['fcstDate'] == tomorrow_date and '2100' < current_time <= '0000':\n",
    "                if item['fcstTime'] == '0000':\n",
    "                    T3H = item['fcstValue']\n",
    "    print(f\"현재 온도는 {T3H} 도 입니다.\")"
   ]
  },
  {
   "cell_type": "code",
   "execution_count": 230,
   "metadata": {},
   "outputs": [
    {
     "name": "stdout",
     "output_type": "stream",
     "text": [
      "현재 온도는 24 도 입니다.\n"
     ]
    }
   ],
   "source": [
    "nx = '60'\n",
    "ny = '128'\n",
    "getTempCurrent(nx, ny)"
   ]
  },
  {
   "cell_type": "code",
   "execution_count": 216,
   "metadata": {},
   "outputs": [
    {
     "name": "stdout",
     "output_type": "stream",
     "text": [
      "http://apis.data.go.kr/1360000/VilageFcstInfoService/getVilageFcst?serviceKey=nEOjm%2Bh6MajezPL97GQY7jDUzDS5L2qvhY4G%2BKfjjxqYULz7folcVjjKi1Q%2BgkD8P94Wowq7l24kNayBKGmsIA%3D%3D&numOfRows=100&pageNo=1&dataType=json&base_date=20210513&base_time=0800&nx=60&ny=128\n"
     ]
    }
   ],
   "source": [
    "payload = \"serviceKey=\" + service_key + \"&\" +\\\n",
    "        \"numOfRows=100\" + \"&\" +\\\n",
    "        \"pageNo=1\" + \"&\" +\\\n",
    "        \"dataType=json\" + \"&\" +\\\n",
    "        \"base_date=\" + current_date + \"&\" +\\\n",
    "        \"base_time=\" + '0800' + \"&\" +\\\n",
    "        \"nx=\" + nx + \"&\" +\\\n",
    "        \"ny=\" + ny\n",
    "\n",
    "print(vilage_weather_url+payload)"
   ]
  },
  {
   "cell_type": "markdown",
   "metadata": {},
   "source": [
    "#### **현재 날씨상태(SKY) 함수 만들기**\n"
   ]
  },
  {
   "cell_type": "code",
   "execution_count": 231,
   "metadata": {},
   "outputs": [],
   "source": [
    "import requests\n",
    "import json\n",
    "import datetime\n",
    "\n",
    "def getWeatherCurrent(nx, ny):\n",
    "    vilage_weather_url = \"http://apis.data.go.kr/1360000/VilageFcstInfoService/getVilageFcst?\"\n",
    "    service_key = \"nEOjm%2Bh6MajezPL97GQY7jDUzDS5L2qvhY4G%2BKfjjxqYULz7folcVjjKi1Q%2BgkD8P94Wowq7l24kNayBKGmsIA%3D%3D\"\n",
    "\n",
    "    today = datetime.datetime.today()       # 오늘의 날씨를 알려주는 함수\n",
    "    current_date = today.strftime(\"%Y%m%d\") # ex) 현재 날짜가 21년 5월 13일인 경우, '20210513' 출력\n",
    "    current_time = today.strftime(\"%H%M\")   # ex) 현재 시간이 14:15 인 경우, '1415' 출력\n",
    "    tomorrow_date = today + datetime.timedelta(days=1)\n",
    "    tomorrow_date = tomorrow_date.strftime(\"%Y%m%d\") # 내일 날짜\n",
    "    base_time = '0800'                    # 당일 08:00 발표시작으로 고정\n",
    "\n",
    "    payload = \"serviceKey=\" + service_key + \"&\" +\\\n",
    "            \"numOfRows=100\" + \"&\" +\\\n",
    "            \"pageNo=1\" + \"&\" +\\\n",
    "            \"dataType=json\" + \"&\" +\\\n",
    "            \"base_date=\" + current_date + \"&\" +\\\n",
    "            \"base_time=\" + base_time + \"&\" +\\\n",
    "            \"nx=\" + nx + \"&\" +\\\n",
    "            \"ny=\" + ny\n",
    "    # print(vilage_weather_url+payload)  # API url 확인\n",
    "\n",
    "    # 값 요청\n",
    "    res = requests.get(vilage_weather_url + payload)\n",
    "    # res.status_code  # 200 정상 호출\n",
    "    # res.json()\n",
    "    items = res.json().get('response').get('body').get('items')\n",
    "\n",
    "    for item in items['item']:\n",
    "        if item['category'] == 'SKY':\n",
    "            if item['fcstDate'] == current_date and '0000' < current_time <= '0300':\n",
    "                if item['fcstTime'] == '0300':\n",
    "                    SKY = item['fcstValue']    \n",
    "            elif item['fcstDate'] == current_date and '0300' < current_time <= '0600':\n",
    "                if item['fcstTime'] == '0600':\n",
    "                    SKY = item['fcstValue']\n",
    "            elif item['fcstDate'] == current_date and '0600' < current_time <= '0900':\n",
    "                if item['fcstTime'] == '0900':\n",
    "                    SKY = item['fcstValue']\n",
    "            elif item['fcstDate'] == current_date and '0900' < current_time <= '1200':\n",
    "                if item['fcstTime'] == '1200':\n",
    "                    SKY = item['fcstValue']\n",
    "            elif item['fcstDate'] == current_date and '1200' < current_time <= '1500':\n",
    "                if item['fcstTime'] == '1500':\n",
    "                    SKY = item['fcstValue']\n",
    "            elif item['fcstDate'] == current_date and '1500' < current_time <= '1800':\n",
    "                if item['fcstTime'] == '1800':\n",
    "                    SKY = item['fcstValue']\n",
    "            elif item['fcstDate'] == current_date and '1800' < current_time <= '2100':\n",
    "                if item['fcstTime'] == '2100':\n",
    "                    SKY = item['fcstValue']\n",
    "            elif item['fcstDate'] == tomorrow_date and '2100' < current_time <= '0000':\n",
    "                if item['fcstTime'] == '0000':\n",
    "                    SKY = item['fcstValue']\n",
    "    if SKY == '1':\n",
    "        SKY_KOREAN = '맑음'\n",
    "    elif SKY == '3':\n",
    "        SKY_KOREAN = '구름많음'\n",
    "    elif SKY == '4':\n",
    "        SKY_KOREAN = '흐림'\n",
    "    else:\n",
    "        SKY_KOREAN = '알수없음'\n",
    "    print(f\"현재 날씨는 {SKY_KOREAN} 입니다.\")"
   ]
  },
  {
   "cell_type": "code",
   "execution_count": 232,
   "metadata": {},
   "outputs": [
    {
     "name": "stdout",
     "output_type": "stream",
     "text": [
      "현재 날씨는 맑음 입니다.\n"
     ]
    }
   ],
   "source": [
    "nx = '60'\n",
    "ny = '128'\n",
    "getWeatherCurrent(nx, ny)"
   ]
  },
  {
   "cell_type": "markdown",
   "metadata": {},
   "source": [
    "#### **현재 강수상태(PTY) 만들기**"
   ]
  },
  {
   "cell_type": "code",
   "execution_count": 233,
   "metadata": {},
   "outputs": [],
   "source": [
    "import requests\n",
    "import json\n",
    "import datetime\n",
    "\n",
    "def getPrecipitationCurrent(nx, ny): # precipitation: 강수상태 (비, 눈, 이슬 등)\n",
    "    vilage_weather_url = \"http://apis.data.go.kr/1360000/VilageFcstInfoService/getVilageFcst?\"\n",
    "    service_key = \"nEOjm%2Bh6MajezPL97GQY7jDUzDS5L2qvhY4G%2BKfjjxqYULz7folcVjjKi1Q%2BgkD8P94Wowq7l24kNayBKGmsIA%3D%3D\"\n",
    "\n",
    "    today = datetime.datetime.today()       # 오늘의 날씨를 알려주는 함수\n",
    "    current_date = today.strftime(\"%Y%m%d\") # ex) 현재 날짜가 21년 5월 13일인 경우, '20210513' 출력\n",
    "    current_time = today.strftime(\"%H%M\")   # ex) 현재 시간이 14:15 인 경우, '1415' 출력\n",
    "    tomorrow_date = today + datetime.timedelta(days=1)\n",
    "    tomorrow_date = tomorrow_date.strftime(\"%Y%m%d\") # 내일 날짜\n",
    "    base_time = '0800'                    # 당일 08:00 발표시작으로 고정\n",
    "\n",
    "    payload = \"serviceKey=\" + service_key + \"&\" +\\\n",
    "            \"numOfRows=100\" + \"&\" +\\\n",
    "            \"pageNo=1\" + \"&\" +\\\n",
    "            \"dataType=json\" + \"&\" +\\\n",
    "            \"base_date=\" + current_date + \"&\" +\\\n",
    "            \"base_time=\" + base_time + \"&\" +\\\n",
    "            \"nx=\" + nx + \"&\" +\\\n",
    "            \"ny=\" + ny\n",
    "    # print(vilage_weather_url+payload)  # API url 확인\n",
    "\n",
    "    # 값 요청\n",
    "    res = requests.get(vilage_weather_url + payload)\n",
    "    # res.status_code  # 200 정상 호출\n",
    "    # res.json()\n",
    "    items = res.json().get('response').get('body').get('items')\n",
    "\n",
    "    for item in items['item']:\n",
    "        if item['category'] == 'PTY':\n",
    "            if item['fcstDate'] == current_date and '0000' < current_time <= '0300':\n",
    "                if item['fcstTime'] == '0300':\n",
    "                    PTY = item['fcstValue']    \n",
    "            elif item['fcstDate'] == current_date and '0300' < current_time <= '0600':\n",
    "                if item['fcstTime'] == '0600':\n",
    "                    PTY = item['fcstValue']\n",
    "            elif item['fcstDate'] == current_date and '0600' < current_time <= '0900':\n",
    "                if item['fcstTime'] == '0900':\n",
    "                    PTY = item['fcstValue']\n",
    "            elif item['fcstDate'] == current_date and '0900' < current_time <= '1200':\n",
    "                if item['fcstTime'] == '1200':\n",
    "                    PTY = item['fcstValue']\n",
    "            elif item['fcstDate'] == current_date and '1200' < current_time <= '1500':\n",
    "                if item['fcstTime'] == '1500':\n",
    "                    PTY = item['fcstValue']\n",
    "            elif item['fcstDate'] == current_date and '1500' < current_time <= '1800':\n",
    "                if item['fcstTime'] == '1800':\n",
    "                    PTY = item['fcstValue']\n",
    "            elif item['fcstDate'] == current_date and '1800' < current_time <= '2100':\n",
    "                if item['fcstTime'] == '2100':\n",
    "                    PTY = item['fcstValue']\n",
    "            elif item['fcstDate'] == tomorrow_date and '2100' < current_time <= '0000':\n",
    "                if item['fcstTime'] == '0000':\n",
    "                    PTY = item['fcstValue']\n",
    "    if PTY == '1':\n",
    "        PTY_KOREAN = '비가'\n",
    "    elif PTY == '2':\n",
    "        PTY_KOREAN = '비 또는 눈이'\n",
    "    elif PTY == '3':\n",
    "        PTY_KOREAN = '눈이'\n",
    "    elif PTY == '4':\n",
    "        PTY_KOREAN = '소나기가'\n",
    "    else:\n",
    "        PTY_KOREAN = '비 또는 눈이 안'\n",
    "    print(f\"현재 {PTY_KOREAN} 오고 있습니다.\")"
   ]
  },
  {
   "cell_type": "code",
   "execution_count": 234,
   "metadata": {},
   "outputs": [
    {
     "name": "stdout",
     "output_type": "stream",
     "text": [
      "현재 비 또는 눈이 안 오고 있습니다.\n"
     ]
    }
   ],
   "source": [
    "nx = '60'\n",
    "ny = '128'\n",
    "getPrecipitationCurrent(nx, ny)"
   ]
  },
  {
   "cell_type": "markdown",
   "metadata": {},
   "source": [
    "#### **TMX(낮 최고기온), TMN(아침 최저기온) 만들기**\n",
    "- TMN: 매일 fcstDate 06:00 한번\n",
    "- TMX: 매일 fcstDate 15:00 한번"
   ]
  },
  {
   "cell_type": "code",
   "execution_count": 235,
   "metadata": {},
   "outputs": [],
   "source": [
    "import requests\n",
    "import json\n",
    "import datetime\n",
    "\n",
    "def getTempMaxMinCurrent(nx, ny):\n",
    "    vilage_weather_url = \"http://apis.data.go.kr/1360000/VilageFcstInfoService/getVilageFcst?\"\n",
    "    service_key = \"nEOjm%2Bh6MajezPL97GQY7jDUzDS5L2qvhY4G%2BKfjjxqYULz7folcVjjKi1Q%2BgkD8P94Wowq7l24kNayBKGmsIA%3D%3D\"\n",
    "\n",
    "    today = datetime.datetime.today()       # 오늘의 날씨를 알려주는 함수\n",
    "    current_date = today.strftime(\"%Y%m%d\") # ex) 현재 날짜가 21년 5월 13일인 경우, '20210513' 출력\n",
    "    current_time = today.strftime(\"%H%M\")   # ex) 현재 시간이 14:15 인 경우, '1415' 출력\n",
    "    tomorrow_date = today + datetime.timedelta(days=1)\n",
    "    tomorrow_date = tomorrow_date.strftime(\"%Y%m%d\") # 내일 날짜\n",
    "    base_time = '0200'                    # 당일 02:00 발표시작으로 고정\n",
    "\n",
    "    payload = \"serviceKey=\" + service_key + \"&\" +\\\n",
    "            \"numOfRows=100\" + \"&\" +\\\n",
    "            \"pageNo=1\" + \"&\" +\\\n",
    "            \"dataType=json\" + \"&\" +\\\n",
    "            \"base_date=\" + current_date + \"&\" +\\\n",
    "            \"base_time=\" + base_time + \"&\" +\\\n",
    "            \"nx=\" + nx + \"&\" +\\\n",
    "            \"ny=\" + ny\n",
    "    # print(vilage_weather_url+payload)  # API url 확인\n",
    "\n",
    "    # 값 요청\n",
    "    res = requests.get(vilage_weather_url + payload)\n",
    "    # res.status_code  # 200 정상 호출\n",
    "    # res.json()\n",
    "    items = res.json().get('response').get('body').get('items')\n",
    "\n",
    "    for item in items['item']:\n",
    "        if item['category'] == 'TMN':\n",
    "            TMN = item['fcstValue']    \n",
    "        elif item['category'] == 'TMN':\n",
    "                    PTY = item['fcstValue']\n",
    "\n",
    "    print(f\"오늘 아침 최저기온은 {TMN}도 이고, 낮 최고기온은 {TMX}도 입니다.\")"
   ]
  },
  {
   "cell_type": "code",
   "execution_count": 226,
   "metadata": {},
   "outputs": [
    {
     "name": "stdout",
     "output_type": "stream",
     "text": [
      "오늘 아침 최저기온은 15.0도 이고, 낮 최고기온은 26.0도 입니다.\n"
     ]
    }
   ],
   "source": [
    "nx = '60'\n",
    "ny = '128'\n",
    "getTempMaxMinCurrent(nx, ny)"
   ]
  },
  {
   "cell_type": "code",
   "execution_count": null,
   "metadata": {},
   "outputs": [],
   "source": []
  },
  {
   "cell_type": "code",
   "execution_count": null,
   "metadata": {},
   "outputs": [],
   "source": []
  },
  {
   "cell_type": "code",
   "execution_count": null,
   "metadata": {},
   "outputs": [],
   "source": []
  },
  {
   "cell_type": "code",
   "execution_count": null,
   "metadata": {},
   "outputs": [],
   "source": []
  },
  {
   "cell_type": "code",
   "execution_count": null,
   "metadata": {},
   "outputs": [],
   "source": []
  },
  {
   "cell_type": "code",
   "execution_count": null,
   "metadata": {},
   "outputs": [],
   "source": []
  },
  {
   "cell_type": "code",
   "execution_count": null,
   "metadata": {},
   "outputs": [],
   "source": []
  },
  {
   "cell_type": "code",
   "execution_count": null,
   "metadata": {},
   "outputs": [],
   "source": []
  }
 ],
 "metadata": {
  "kernelspec": {
   "display_name": "pydatavenv",
   "language": "python",
   "name": "pydatavenv"
  },
  "language_info": {
   "codemirror_mode": {
    "name": "ipython",
    "version": 3
   },
   "file_extension": ".py",
   "mimetype": "text/x-python",
   "name": "python",
   "nbconvert_exporter": "python",
   "pygments_lexer": "ipython3",
   "version": "3.8.8"
  }
 },
 "nbformat": 4,
 "nbformat_minor": 4
}
